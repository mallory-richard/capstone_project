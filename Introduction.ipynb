{
 "cells": [
  {
   "cell_type": "markdown",
   "metadata": {},
   "source": [
    "## Introduction\n",
    "An event organizer based in southeastern Manitoba, Canada, wants to organize a mountain bike race within the region. The organizer needs to find a suitable race venue that meets the following criteria: \n",
    "1. The venue must have access to an established network of biking trails\n",
    "2. There must be a hotel nearby for race participants who are traveling from farther away\n",
    "\n",
    "The organizer realizes that several mountain bike races already exist in the central and western regions of Manitoba. To ensure the event is viable and provides an experience distinctive from existing events, the organizer has decided to focus on a region within 200 kilometres of Steinbach, Manitoba.\n",
    "\n",
    "The organizer is in the data-gathering stage of developing the event. She wants to know what her options are for possible \n"
   ]
  }
 ],
 "metadata": {
  "kernelspec": {
   "display_name": "Python",
   "language": "python",
   "name": "conda-env-python-py"
  },
  "language_info": {
   "codemirror_mode": {
    "name": "ipython",
    "version": 3
   },
   "file_extension": ".py",
   "mimetype": "text/x-python",
   "name": "python",
   "nbconvert_exporter": "python",
   "pygments_lexer": "ipython3",
   "version": "3.6.10"
  }
 },
 "nbformat": 4,
 "nbformat_minor": 4
}
